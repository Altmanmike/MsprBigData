{
 "cells": [
  {
   "cell_type": "code",
   "execution_count": 1,
   "id": "eeebf321",
   "metadata": {},
   "outputs": [
    {
     "name": "stdout",
     "output_type": "stream",
     "text": [
      "Précision du modèle k-NN : 0.6965174129353234\n",
      "Précision du modèle de réseau neuronal : 0.8582089552238806\n"
     ]
    }
   ],
   "source": [
    "import pandas as pd\n",
    "from sklearn.preprocessing import StandardScaler\n",
    "from sklearn.model_selection import train_test_split\n",
    "from sklearn.neighbors import KNeighborsClassifier\n",
    "from sklearn.neural_network import MLPClassifier\n",
    "from sklearn.metrics import accuracy_score\n",
    "\n",
    "# Charger les données à partir du fichier XLSX\n",
    "data = pd.read_excel(\"commune_final_2.xlsx\")\n",
    "\n",
    "# Séparer les caractéristiques (X) et les étiquettes (y)\n",
    "X = data.drop(columns=[\"Libellé de la commune\", \"Code du département\", \"Gagnants_2022\"])\n",
    "y = data[\"Gagnants_2022\"]\n",
    "\n",
    "# Appliquer le One-Hot Encoding sur les variables catégorielles\n",
    "X_encoded = pd.get_dummies(X)\n",
    "\n",
    "# Normalisation des données\n",
    "scaler = StandardScaler()\n",
    "X_scaled = scaler.fit_transform(X_encoded)\n",
    "\n",
    "# Diviser les données en ensembles d'entraînement et de test\n",
    "X_train, X_test, y_train, y_test = train_test_split(X_scaled, y, test_size=0.2, random_state=42)\n",
    "\n",
    "# Entraîner le modèle k-NN\n",
    "k = 5  # Choisissez un k approprié\n",
    "knn_classifier = KNeighborsClassifier(n_neighbors=k)\n",
    "knn_classifier.fit(X_train, y_train)\n",
    "\n",
    "# Faire des prédictions sur l'ensemble de test avec k-NN\n",
    "y_pred_knn = knn_classifier.predict(X_test)\n",
    "\n",
    "# Évaluer la précision du modèle k-NN\n",
    "accuracy_knn = accuracy_score(y_test, y_pred_knn)\n",
    "print(\"Précision du modèle k-NN :\", accuracy_knn)\n",
    "\n",
    "# Entraîner le réseau neuronal\n",
    "hidden_layers = (100, 50)  # Choisissez le nombre de neurones dans chaque couche cachée\n",
    "mlp_classifier = MLPClassifier(hidden_layer_sizes=hidden_layers, max_iter=1000, random_state=42)\n",
    "mlp_classifier.fit(X_train, y_train)\n",
    "\n",
    "# Faire des prédictions sur l'ensemble de test avec le réseau neuronal\n",
    "y_pred_mlp = mlp_classifier.predict(X_test)\n",
    "\n",
    "# Évaluer la précision du modèle de réseau neuronal\n",
    "accuracy_mlp = accuracy_score(y_test, y_pred_mlp)\n",
    "print(\"Précision du modèle de réseau neuronal :\", accuracy_mlp)\n"
   ]
  },
  {
   "cell_type": "code",
   "execution_count": null,
   "id": "bdaf180d",
   "metadata": {},
   "outputs": [],
   "source": []
  }
 ],
 "metadata": {
  "kernelspec": {
   "display_name": "Python 3 (ipykernel)",
   "language": "python",
   "name": "python3"
  },
  "language_info": {
   "codemirror_mode": {
    "name": "ipython",
    "version": 3
   },
   "file_extension": ".py",
   "mimetype": "text/x-python",
   "name": "python",
   "nbconvert_exporter": "python",
   "pygments_lexer": "ipython3",
   "version": "3.10.9"
  }
 },
 "nbformat": 4,
 "nbformat_minor": 5
}
